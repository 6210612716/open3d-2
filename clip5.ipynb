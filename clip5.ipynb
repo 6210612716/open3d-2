{
 "cells": [
  {
   "cell_type": "code",
   "execution_count": 1,
   "id": "1e0c9de6-f06c-4ef9-9119-9c2738e26a55",
   "metadata": {},
   "outputs": [
    {
     "name": "stdout",
     "output_type": "stream",
     "text": [
      "Jupyter environment detected. Enabling Open3D WebVisualizer.\n",
      "[Open3D INFO] WebRTC GUI backend enabled.\n",
      "[Open3D INFO] WebRTCWindowSystem: HTTP handshake server disabled.\n"
     ]
    }
   ],
   "source": [
    "import open3d as o3d\n",
    "import numpy as np"
   ]
  },
  {
   "cell_type": "code",
   "execution_count": 2,
   "id": "0ab31807-344b-4b0f-a660-4d16b8c22faf",
   "metadata": {},
   "outputs": [
    {
     "name": "stdout",
     "output_type": "stream",
     "text": [
      "PointCloud with 14640197 points.\n"
     ]
    }
   ],
   "source": [
    "pcd_kota = o3d.io.read_point_cloud(\"../kota_circuit2.ply\")\n",
    "print(pcd_kota)"
   ]
  },
  {
   "cell_type": "code",
   "execution_count": 3,
   "id": "be81581c-13ae-441b-af50-baca3d23a89b",
   "metadata": {},
   "outputs": [],
   "source": [
    "o3d.visualization.draw_geometries_with_editing([pcd_kota])"
   ]
  },
  {
   "cell_type": "markdown",
   "id": "74c8a8fa-1f1d-4579-b582-a9b5065b13e4",
   "metadata": {},
   "source": [
    "### Vertex normal estimation"
   ]
  },
  {
   "cell_type": "code",
   "execution_count": 76,
   "id": "86c59ac2-9377-4ce3-90d1-b534ec5e0075",
   "metadata": {},
   "outputs": [],
   "source": [
    "kota_cropped = o3d.io.read_point_cloud(\"../cropped_1.ply\")\n",
    "o3d.visualization.draw_geometries([kota_cropped])"
   ]
  },
  {
   "cell_type": "code",
   "execution_count": 77,
   "id": "f9430e33-bf6f-49c3-b8b8-b0c3e71f419c",
   "metadata": {},
   "outputs": [],
   "source": [
    "# from vertex normal estimation\n",
    "kota_cropped.estimate_normals(\n",
    "    search_param=o3d.geometry.KDTreeSearchParamHybrid(radius=0.5, max_nn=50))\n",
    "\n",
    "o3d.visualization.draw_geometries([kota_cropped])"
   ]
  },
  {
   "cell_type": "code",
   "execution_count": 78,
   "id": "4035c735-3a8c-4bf3-a252-106e69dd07ab",
   "metadata": {},
   "outputs": [
    {
     "data": {
      "text/plain": [
       "True"
      ]
     },
     "execution_count": 78,
     "metadata": {},
     "output_type": "execute_result"
    }
   ],
   "source": [
    "# write_ascii\n",
    "o3d.io.write_point_cloud(\"kota_cropped_ascii.ply\", kota_cropped, write_ascii=True)"
   ]
  },
  {
   "cell_type": "markdown",
   "id": "8c21a24b-ce89-461a-9cdb-1a7fac305fad",
   "metadata": {},
   "source": [
    "### z>=.9, -0.2<x<+0.2, -0.2<y<+0.2"
   ]
  },
  {
   "cell_type": "code",
   "execution_count": 79,
   "id": "d0bcb658-46bf-40fb-80a3-c338a4909954",
   "metadata": {},
   "outputs": [
    {
     "name": "stdout",
     "output_type": "stream",
     "text": [
      "PointCloud with 57495 points.\n"
     ]
    }
   ],
   "source": [
    "kota_cropped_ascii = o3d.io.read_point_cloud(\"kota_cropped_ascii.ply\")\n",
    "print(kota_cropped_ascii)"
   ]
  },
  {
   "cell_type": "code",
   "execution_count": 80,
   "id": "c1e0ef59-cef1-4cc6-a33d-78309355e7d0",
   "metadata": {},
   "outputs": [
    {
     "name": "stdout",
     "output_type": "stream",
     "text": [
      "POINTS\n",
      "[[-51.769  126.032  -92.8029]\n",
      " [-44.7568 116.31   -92.7263]\n",
      " [-47.5728 111.213  -92.6068]\n",
      " ...\n",
      " [-69.256  126.105  -92.3161]\n",
      " [-50.5813 106.171  -92.5063]\n",
      " [-45.9916 108.008  -92.5413]]\n",
      "\n",
      "NORMALS\n",
      "[[ 0.0119254   0.00281208  0.999925  ]\n",
      " [-0.0330682   0.0202214   0.999249  ]\n",
      " [ 0.132414    0.179811    0.974748  ]\n",
      " ...\n",
      " [ 0.208528   -0.395644   -0.894417  ]\n",
      " [-0.0253697   0.123503    0.99202   ]\n",
      " [-0.0285625   0.0934797   0.995211  ]]\n",
      "\n",
      "COLORS\n",
      "[[0.8        0.83137255 0.83529412]\n",
      " [0.40392157 0.56470588 0.31372549]\n",
      " [0.76078431 0.78431373 0.79215686]\n",
      " ...\n",
      " [0.44313725 0.48235294 0.35686275]\n",
      " [0.80784314 0.83137255 0.83137255]\n",
      " [0.74509804 0.77647059 0.78823529]]\n"
     ]
    }
   ],
   "source": [
    "print(\"POINTS\")\n",
    "print(np.asarray(kota_cropped_ascii.points))\n",
    "print(\"\\nNORMALS\")\n",
    "print(np.asarray(kota_cropped_ascii.normals))\n",
    "print(\"\\nCOLORS\")\n",
    "print(np.asarray(kota_cropped_ascii.colors))"
   ]
  },
  {
   "cell_type": "code",
   "execution_count": 81,
   "id": "04c2f5ce-d7f1-4ee8-b0ad-aebd5047d9b6",
   "metadata": {},
   "outputs": [
    {
     "name": "stdout",
     "output_type": "stream",
     "text": [
      "PointCloud with 43689 points.\n",
      "POINTS\n",
      "[[-51.769  126.032  -92.8029]\n",
      " [-44.7568 116.31   -92.7263]\n",
      " [-47.5728 111.213  -92.6068]\n",
      " ...\n",
      " [-55.073  129.62   -92.7165]\n",
      " [-50.5813 106.171  -92.5063]\n",
      " [-45.9916 108.008  -92.5413]]\n",
      "\n",
      "NORMALS\n",
      "[[ 0.0119254   0.00281208  0.999925  ]\n",
      " [-0.0330682   0.0202214   0.999249  ]\n",
      " [ 0.132414    0.179811    0.974748  ]\n",
      " ...\n",
      " [ 0.0792517  -0.0187848   0.996678  ]\n",
      " [-0.0253697   0.123503    0.99202   ]\n",
      " [-0.0285625   0.0934797   0.995211  ]]\n",
      "\n",
      "COLORS\n",
      "[[0.8        0.83137255 0.83529412]\n",
      " [0.40392157 0.56470588 0.31372549]\n",
      " [0.76078431 0.78431373 0.79215686]\n",
      " ...\n",
      " [0.79215686 0.81176471 0.82352941]\n",
      " [0.80784314 0.83137255 0.83137255]\n",
      " [0.74509804 0.77647059 0.78823529]]\n"
     ]
    }
   ],
   "source": [
    "points_np = np.asarray(kota_cropped_ascii.points)\n",
    "normals_np = np.asarray(kota_cropped_ascii.normals)\n",
    "colors_np = np.asarray(kota_cropped_ascii.colors)\n",
    "\n",
    "filtered_points = []\n",
    "filtered_normals = []\n",
    "filtered_colors = []\n",
    "\n",
    "for point, normal, color in zip(points_np, normals_np, colors_np):\n",
    "    x, y, z = normal\n",
    "    \n",
    "    if (-0.2 < x < 0.2 and -0.2 < y < 0.2 and z >= 0.9):\n",
    "        filtered_points.append(point)\n",
    "        filtered_normals.append(normal)\n",
    "        filtered_colors.append(color)\n",
    "        \n",
    "filtered_points = np.asarray(filtered_points)\n",
    "filtered_normals = np.asarray(filtered_normals)\n",
    "filtered_colors = np.asarray(filtered_colors)\n",
    "\n",
    "kota_cropped_ascii.points = o3d.utility.Vector3dVector(filtered_points)\n",
    "kota_cropped_ascii.normals = o3d.utility.Vector3dVector(filtered_normals)\n",
    "kota_cropped_ascii.colors = o3d.utility.Vector3dVector(filtered_colors)\n",
    "\n",
    "print(kota_cropped_ascii)\n",
    "\n",
    "print(\"POINTS\")\n",
    "print(filtered_points)\n",
    "print(\"\\nNORMALS\")\n",
    "print(filtered_normals)\n",
    "print(\"\\nCOLORS\")\n",
    "print(filtered_colors)"
   ]
  },
  {
   "cell_type": "code",
   "execution_count": 82,
   "id": "f28b9a0b-f9a2-4ce2-a086-96fb69199fe9",
   "metadata": {},
   "outputs": [
    {
     "data": {
      "text/plain": [
       "True"
      ]
     },
     "execution_count": 82,
     "metadata": {},
     "output_type": "execute_result"
    }
   ],
   "source": [
    "# write_ascii\n",
    "o3d.io.write_point_cloud(\"kota_cropped_ascii_edited.ply\", kota_cropped_ascii, write_ascii=True)"
   ]
  },
  {
   "cell_type": "code",
   "execution_count": 83,
   "id": "aaf68cdd-5bdc-4536-8f05-8f92818a4b11",
   "metadata": {},
   "outputs": [
    {
     "name": "stdout",
     "output_type": "stream",
     "text": [
      "PointCloud with 43689 points.\n"
     ]
    }
   ],
   "source": [
    "kota_cropped_ascii_edited = o3d.io.read_point_cloud(\"kota_cropped_ascii_edited.ply\")\n",
    "print(kota_cropped_ascii_edited)"
   ]
  },
  {
   "cell_type": "code",
   "execution_count": 84,
   "id": "1d9e8a3b-283f-4ac7-8f25-18306d62c598",
   "metadata": {},
   "outputs": [],
   "source": [
    "o3d.visualization.draw_geometries([kota_cropped_ascii])"
   ]
  },
  {
   "cell_type": "code",
   "execution_count": null,
   "id": "80e5ed6b-77ef-4bb6-aaa8-c78724b2cbfb",
   "metadata": {},
   "outputs": [],
   "source": []
  }
 ],
 "metadata": {
  "kernelspec": {
   "display_name": "Python 3 (ipykernel)",
   "language": "python",
   "name": "python3"
  },
  "language_info": {
   "codemirror_mode": {
    "name": "ipython",
    "version": 3
   },
   "file_extension": ".py",
   "mimetype": "text/x-python",
   "name": "python",
   "nbconvert_exporter": "python",
   "pygments_lexer": "ipython3",
   "version": "3.10.1"
  }
 },
 "nbformat": 4,
 "nbformat_minor": 5
}
